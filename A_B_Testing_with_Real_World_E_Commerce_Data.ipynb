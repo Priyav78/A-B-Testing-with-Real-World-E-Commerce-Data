{
  "nbformat": 4,
  "nbformat_minor": 0,
  "metadata": {
    "colab": {
      "provenance": []
    },
    "kernelspec": {
      "name": "python3",
      "display_name": "Python 3"
    },
    "language_info": {
      "name": "python"
    }
  },
  "cells": [
    {
      "cell_type": "markdown",
      "source": [
        "# A/B Testing with Real-World E-Commerce Data"
      ],
      "metadata": {
        "id": "OA6ifLh8iRgL"
      }
    },
    {
      "cell_type": "markdown",
      "source": [
        "Dataset is from kaggle.\n",
        "\n",
        "Logvinov, S. (2022, September 16). A/B test data. Kaggle. https://www.kaggle.com/datasets/sergylog/ab-test-data"
      ],
      "metadata": {
        "id": "t8qEn7hMZ6TI"
      }
    },
    {
      "cell_type": "markdown",
      "source": [
        "This project applies statistical techniques—including t-tests, chi-square tests, and exploratory data analysis—to evaluate the impact of an A/B experiment on user conversion and revenue behavior in an e-commerce setting.\n"
      ],
      "metadata": {
        "id": "4Mjt4fw1jyIA"
      }
    },
    {
      "cell_type": "code",
      "execution_count": null,
      "metadata": {
        "id": "UHNmHApDfZQQ"
      },
      "outputs": [],
      "source": [
        "import pandas as pd\n",
        "import numpy as np\n",
        "import matplotlib.pyplot as plt\n",
        "import seaborn as sns\n",
        "import os\n",
        "from scipy import stats\n",
        "from scipy.stats import norm, zscore, chi2_contingency, f_oneway"
      ]
    },
    {
      "cell_type": "code",
      "source": [
        "import kagglehub\n",
        "\n",
        "# Download latest version\n",
        "path = kagglehub.dataset_download(\"sergylog/ab-test-data\")\n",
        "\n",
        "# print(\"Path to dataset files:\", path)\n",
        "\n",
        "filename = 'AB_Test_Results.csv'\n",
        "\n",
        "csv_path = os.path.join(path, filename)\n",
        "\n",
        "df = pd.read_csv(csv_path)\n",
        "\n",
        "df.head()"
      ],
      "metadata": {
        "colab": {
          "base_uri": "https://localhost:8080/",
          "height": 206
        },
        "id": "ocTNkcbEfs-B",
        "outputId": "48fbedc1-571d-4634-bc14-f6a03369527d"
      },
      "execution_count": null,
      "outputs": [
        {
          "output_type": "execute_result",
          "data": {
            "text/plain": [
              "   USER_ID VARIANT_NAME  REVENUE\n",
              "0      737      variant      0.0\n",
              "1     2423      control      0.0\n",
              "2     9411      control      0.0\n",
              "3     7311      control      0.0\n",
              "4     6174      variant      0.0"
            ],
            "text/html": [
              "\n",
              "  <div id=\"df-4fdf0428-d27f-4e32-9c6b-765e0018df8c\" class=\"colab-df-container\">\n",
              "    <div>\n",
              "<style scoped>\n",
              "    .dataframe tbody tr th:only-of-type {\n",
              "        vertical-align: middle;\n",
              "    }\n",
              "\n",
              "    .dataframe tbody tr th {\n",
              "        vertical-align: top;\n",
              "    }\n",
              "\n",
              "    .dataframe thead th {\n",
              "        text-align: right;\n",
              "    }\n",
              "</style>\n",
              "<table border=\"1\" class=\"dataframe\">\n",
              "  <thead>\n",
              "    <tr style=\"text-align: right;\">\n",
              "      <th></th>\n",
              "      <th>USER_ID</th>\n",
              "      <th>VARIANT_NAME</th>\n",
              "      <th>REVENUE</th>\n",
              "    </tr>\n",
              "  </thead>\n",
              "  <tbody>\n",
              "    <tr>\n",
              "      <th>0</th>\n",
              "      <td>737</td>\n",
              "      <td>variant</td>\n",
              "      <td>0.0</td>\n",
              "    </tr>\n",
              "    <tr>\n",
              "      <th>1</th>\n",
              "      <td>2423</td>\n",
              "      <td>control</td>\n",
              "      <td>0.0</td>\n",
              "    </tr>\n",
              "    <tr>\n",
              "      <th>2</th>\n",
              "      <td>9411</td>\n",
              "      <td>control</td>\n",
              "      <td>0.0</td>\n",
              "    </tr>\n",
              "    <tr>\n",
              "      <th>3</th>\n",
              "      <td>7311</td>\n",
              "      <td>control</td>\n",
              "      <td>0.0</td>\n",
              "    </tr>\n",
              "    <tr>\n",
              "      <th>4</th>\n",
              "      <td>6174</td>\n",
              "      <td>variant</td>\n",
              "      <td>0.0</td>\n",
              "    </tr>\n",
              "  </tbody>\n",
              "</table>\n",
              "</div>\n",
              "    <div class=\"colab-df-buttons\">\n",
              "\n",
              "  <div class=\"colab-df-container\">\n",
              "    <button class=\"colab-df-convert\" onclick=\"convertToInteractive('df-4fdf0428-d27f-4e32-9c6b-765e0018df8c')\"\n",
              "            title=\"Convert this dataframe to an interactive table.\"\n",
              "            style=\"display:none;\">\n",
              "\n",
              "  <svg xmlns=\"http://www.w3.org/2000/svg\" height=\"24px\" viewBox=\"0 -960 960 960\">\n",
              "    <path d=\"M120-120v-720h720v720H120Zm60-500h600v-160H180v160Zm220 220h160v-160H400v160Zm0 220h160v-160H400v160ZM180-400h160v-160H180v160Zm440 0h160v-160H620v160ZM180-180h160v-160H180v160Zm440 0h160v-160H620v160Z\"/>\n",
              "  </svg>\n",
              "    </button>\n",
              "\n",
              "  <style>\n",
              "    .colab-df-container {\n",
              "      display:flex;\n",
              "      gap: 12px;\n",
              "    }\n",
              "\n",
              "    .colab-df-convert {\n",
              "      background-color: #E8F0FE;\n",
              "      border: none;\n",
              "      border-radius: 50%;\n",
              "      cursor: pointer;\n",
              "      display: none;\n",
              "      fill: #1967D2;\n",
              "      height: 32px;\n",
              "      padding: 0 0 0 0;\n",
              "      width: 32px;\n",
              "    }\n",
              "\n",
              "    .colab-df-convert:hover {\n",
              "      background-color: #E2EBFA;\n",
              "      box-shadow: 0px 1px 2px rgba(60, 64, 67, 0.3), 0px 1px 3px 1px rgba(60, 64, 67, 0.15);\n",
              "      fill: #174EA6;\n",
              "    }\n",
              "\n",
              "    .colab-df-buttons div {\n",
              "      margin-bottom: 4px;\n",
              "    }\n",
              "\n",
              "    [theme=dark] .colab-df-convert {\n",
              "      background-color: #3B4455;\n",
              "      fill: #D2E3FC;\n",
              "    }\n",
              "\n",
              "    [theme=dark] .colab-df-convert:hover {\n",
              "      background-color: #434B5C;\n",
              "      box-shadow: 0px 1px 3px 1px rgba(0, 0, 0, 0.15);\n",
              "      filter: drop-shadow(0px 1px 2px rgba(0, 0, 0, 0.3));\n",
              "      fill: #FFFFFF;\n",
              "    }\n",
              "  </style>\n",
              "\n",
              "    <script>\n",
              "      const buttonEl =\n",
              "        document.querySelector('#df-4fdf0428-d27f-4e32-9c6b-765e0018df8c button.colab-df-convert');\n",
              "      buttonEl.style.display =\n",
              "        google.colab.kernel.accessAllowed ? 'block' : 'none';\n",
              "\n",
              "      async function convertToInteractive(key) {\n",
              "        const element = document.querySelector('#df-4fdf0428-d27f-4e32-9c6b-765e0018df8c');\n",
              "        const dataTable =\n",
              "          await google.colab.kernel.invokeFunction('convertToInteractive',\n",
              "                                                    [key], {});\n",
              "        if (!dataTable) return;\n",
              "\n",
              "        const docLinkHtml = 'Like what you see? Visit the ' +\n",
              "          '<a target=\"_blank\" href=https://colab.research.google.com/notebooks/data_table.ipynb>data table notebook</a>'\n",
              "          + ' to learn more about interactive tables.';\n",
              "        element.innerHTML = '';\n",
              "        dataTable['output_type'] = 'display_data';\n",
              "        await google.colab.output.renderOutput(dataTable, element);\n",
              "        const docLink = document.createElement('div');\n",
              "        docLink.innerHTML = docLinkHtml;\n",
              "        element.appendChild(docLink);\n",
              "      }\n",
              "    </script>\n",
              "  </div>\n",
              "\n",
              "\n",
              "<div id=\"df-c9ea9051-77b4-4802-a3ac-d1a41708717b\">\n",
              "  <button class=\"colab-df-quickchart\" onclick=\"quickchart('df-c9ea9051-77b4-4802-a3ac-d1a41708717b')\"\n",
              "            title=\"Suggest charts\"\n",
              "            style=\"display:none;\">\n",
              "\n",
              "<svg xmlns=\"http://www.w3.org/2000/svg\" height=\"24px\"viewBox=\"0 0 24 24\"\n",
              "     width=\"24px\">\n",
              "    <g>\n",
              "        <path d=\"M19 3H5c-1.1 0-2 .9-2 2v14c0 1.1.9 2 2 2h14c1.1 0 2-.9 2-2V5c0-1.1-.9-2-2-2zM9 17H7v-7h2v7zm4 0h-2V7h2v10zm4 0h-2v-4h2v4z\"/>\n",
              "    </g>\n",
              "</svg>\n",
              "  </button>\n",
              "\n",
              "<style>\n",
              "  .colab-df-quickchart {\n",
              "      --bg-color: #E8F0FE;\n",
              "      --fill-color: #1967D2;\n",
              "      --hover-bg-color: #E2EBFA;\n",
              "      --hover-fill-color: #174EA6;\n",
              "      --disabled-fill-color: #AAA;\n",
              "      --disabled-bg-color: #DDD;\n",
              "  }\n",
              "\n",
              "  [theme=dark] .colab-df-quickchart {\n",
              "      --bg-color: #3B4455;\n",
              "      --fill-color: #D2E3FC;\n",
              "      --hover-bg-color: #434B5C;\n",
              "      --hover-fill-color: #FFFFFF;\n",
              "      --disabled-bg-color: #3B4455;\n",
              "      --disabled-fill-color: #666;\n",
              "  }\n",
              "\n",
              "  .colab-df-quickchart {\n",
              "    background-color: var(--bg-color);\n",
              "    border: none;\n",
              "    border-radius: 50%;\n",
              "    cursor: pointer;\n",
              "    display: none;\n",
              "    fill: var(--fill-color);\n",
              "    height: 32px;\n",
              "    padding: 0;\n",
              "    width: 32px;\n",
              "  }\n",
              "\n",
              "  .colab-df-quickchart:hover {\n",
              "    background-color: var(--hover-bg-color);\n",
              "    box-shadow: 0 1px 2px rgba(60, 64, 67, 0.3), 0 1px 3px 1px rgba(60, 64, 67, 0.15);\n",
              "    fill: var(--button-hover-fill-color);\n",
              "  }\n",
              "\n",
              "  .colab-df-quickchart-complete:disabled,\n",
              "  .colab-df-quickchart-complete:disabled:hover {\n",
              "    background-color: var(--disabled-bg-color);\n",
              "    fill: var(--disabled-fill-color);\n",
              "    box-shadow: none;\n",
              "  }\n",
              "\n",
              "  .colab-df-spinner {\n",
              "    border: 2px solid var(--fill-color);\n",
              "    border-color: transparent;\n",
              "    border-bottom-color: var(--fill-color);\n",
              "    animation:\n",
              "      spin 1s steps(1) infinite;\n",
              "  }\n",
              "\n",
              "  @keyframes spin {\n",
              "    0% {\n",
              "      border-color: transparent;\n",
              "      border-bottom-color: var(--fill-color);\n",
              "      border-left-color: var(--fill-color);\n",
              "    }\n",
              "    20% {\n",
              "      border-color: transparent;\n",
              "      border-left-color: var(--fill-color);\n",
              "      border-top-color: var(--fill-color);\n",
              "    }\n",
              "    30% {\n",
              "      border-color: transparent;\n",
              "      border-left-color: var(--fill-color);\n",
              "      border-top-color: var(--fill-color);\n",
              "      border-right-color: var(--fill-color);\n",
              "    }\n",
              "    40% {\n",
              "      border-color: transparent;\n",
              "      border-right-color: var(--fill-color);\n",
              "      border-top-color: var(--fill-color);\n",
              "    }\n",
              "    60% {\n",
              "      border-color: transparent;\n",
              "      border-right-color: var(--fill-color);\n",
              "    }\n",
              "    80% {\n",
              "      border-color: transparent;\n",
              "      border-right-color: var(--fill-color);\n",
              "      border-bottom-color: var(--fill-color);\n",
              "    }\n",
              "    90% {\n",
              "      border-color: transparent;\n",
              "      border-bottom-color: var(--fill-color);\n",
              "    }\n",
              "  }\n",
              "</style>\n",
              "\n",
              "  <script>\n",
              "    async function quickchart(key) {\n",
              "      const quickchartButtonEl =\n",
              "        document.querySelector('#' + key + ' button');\n",
              "      quickchartButtonEl.disabled = true;  // To prevent multiple clicks.\n",
              "      quickchartButtonEl.classList.add('colab-df-spinner');\n",
              "      try {\n",
              "        const charts = await google.colab.kernel.invokeFunction(\n",
              "            'suggestCharts', [key], {});\n",
              "      } catch (error) {\n",
              "        console.error('Error during call to suggestCharts:', error);\n",
              "      }\n",
              "      quickchartButtonEl.classList.remove('colab-df-spinner');\n",
              "      quickchartButtonEl.classList.add('colab-df-quickchart-complete');\n",
              "    }\n",
              "    (() => {\n",
              "      let quickchartButtonEl =\n",
              "        document.querySelector('#df-c9ea9051-77b4-4802-a3ac-d1a41708717b button');\n",
              "      quickchartButtonEl.style.display =\n",
              "        google.colab.kernel.accessAllowed ? 'block' : 'none';\n",
              "    })();\n",
              "  </script>\n",
              "</div>\n",
              "\n",
              "    </div>\n",
              "  </div>\n"
            ],
            "application/vnd.google.colaboratory.intrinsic+json": {
              "type": "dataframe",
              "variable_name": "df",
              "summary": "{\n  \"name\": \"df\",\n  \"rows\": 10000,\n  \"fields\": [\n    {\n      \"column\": \"USER_ID\",\n      \"properties\": {\n        \"dtype\": \"number\",\n        \"std\": 2890,\n        \"min\": 2,\n        \"max\": 10000,\n        \"num_unique_values\": 6324,\n        \"samples\": [\n          2159,\n          5040,\n          418\n        ],\n        \"semantic_type\": \"\",\n        \"description\": \"\"\n      }\n    },\n    {\n      \"column\": \"VARIANT_NAME\",\n      \"properties\": {\n        \"dtype\": \"category\",\n        \"num_unique_values\": 2,\n        \"samples\": [\n          \"control\",\n          \"variant\"\n        ],\n        \"semantic_type\": \"\",\n        \"description\": \"\"\n      }\n    },\n    {\n      \"column\": \"REVENUE\",\n      \"properties\": {\n        \"dtype\": \"number\",\n        \"std\": 2.3185286544931945,\n        \"min\": 0.0,\n        \"max\": 196.01,\n        \"num_unique_values\": 101,\n        \"samples\": [\n          1.3,\n          3.97\n        ],\n        \"semantic_type\": \"\",\n        \"description\": \"\"\n      }\n    }\n  ]\n}"
            }
          },
          "metadata": {},
          "execution_count": 11
        }
      ]
    },
    {
      "cell_type": "code",
      "source": [
        "df.info()"
      ],
      "metadata": {
        "colab": {
          "base_uri": "https://localhost:8080/"
        },
        "id": "bJOu_30pgfeR",
        "outputId": "9123d3ed-38d2-49e0-dd33-b56ce3bcbae3"
      },
      "execution_count": null,
      "outputs": [
        {
          "output_type": "stream",
          "name": "stdout",
          "text": [
            "<class 'pandas.core.frame.DataFrame'>\n",
            "RangeIndex: 10000 entries, 0 to 9999\n",
            "Data columns (total 3 columns):\n",
            " #   Column        Non-Null Count  Dtype  \n",
            "---  ------        --------------  -----  \n",
            " 0   USER_ID       10000 non-null  int64  \n",
            " 1   VARIANT_NAME  10000 non-null  object \n",
            " 2   REVENUE       10000 non-null  float64\n",
            "dtypes: float64(1), int64(1), object(1)\n",
            "memory usage: 234.5+ KB\n"
          ]
        }
      ]
    },
    {
      "cell_type": "code",
      "source": [
        "df.isnull().sum()"
      ],
      "metadata": {
        "colab": {
          "base_uri": "https://localhost:8080/",
          "height": 178
        },
        "id": "1gVuRnOagPOY",
        "outputId": "8446d6e0-a022-4472-ae45-6cd3ad51b477"
      },
      "execution_count": null,
      "outputs": [
        {
          "output_type": "execute_result",
          "data": {
            "text/plain": [
              "USER_ID         0\n",
              "VARIANT_NAME    0\n",
              "REVENUE         0\n",
              "dtype: int64"
            ],
            "text/html": [
              "<div>\n",
              "<style scoped>\n",
              "    .dataframe tbody tr th:only-of-type {\n",
              "        vertical-align: middle;\n",
              "    }\n",
              "\n",
              "    .dataframe tbody tr th {\n",
              "        vertical-align: top;\n",
              "    }\n",
              "\n",
              "    .dataframe thead th {\n",
              "        text-align: right;\n",
              "    }\n",
              "</style>\n",
              "<table border=\"1\" class=\"dataframe\">\n",
              "  <thead>\n",
              "    <tr style=\"text-align: right;\">\n",
              "      <th></th>\n",
              "      <th>0</th>\n",
              "    </tr>\n",
              "  </thead>\n",
              "  <tbody>\n",
              "    <tr>\n",
              "      <th>USER_ID</th>\n",
              "      <td>0</td>\n",
              "    </tr>\n",
              "    <tr>\n",
              "      <th>VARIANT_NAME</th>\n",
              "      <td>0</td>\n",
              "    </tr>\n",
              "    <tr>\n",
              "      <th>REVENUE</th>\n",
              "      <td>0</td>\n",
              "    </tr>\n",
              "  </tbody>\n",
              "</table>\n",
              "</div><br><label><b>dtype:</b> int64</label>"
            ]
          },
          "metadata": {},
          "execution_count": 13
        }
      ]
    },
    {
      "cell_type": "code",
      "source": [
        "df = df.drop_duplicates(subset=['USER_ID', 'VARIANT_NAME'])"
      ],
      "metadata": {
        "id": "h8JaTtjXgXSA"
      },
      "execution_count": null,
      "outputs": []
    },
    {
      "cell_type": "markdown",
      "source": [
        "### Normality test to determine distribution pattern"
      ],
      "metadata": {
        "id": "Udx4J2-B2J6C"
      }
    },
    {
      "cell_type": "markdown",
      "source": [
        "Look out for:\n",
        "  1. Data skew\n",
        "  2. Non-normal distribution"
      ],
      "metadata": {
        "id": "rYSbbIVN2Scy"
      }
    },
    {
      "cell_type": "code",
      "source": [
        "# Begin with Shapiro-Wilk ttest\n",
        "\n",
        "t_test, p_value = stats.shapiro(df['REVENUE'])\n",
        "print('p-value:', p_value)"
      ],
      "metadata": {
        "colab": {
          "base_uri": "https://localhost:8080/"
        },
        "id": "DFnoZ6BZ2HXM",
        "outputId": "30b1260c-c942-4ca6-9376-579d2b4489fd"
      },
      "execution_count": null,
      "outputs": [
        {
          "output_type": "stream",
          "name": "stdout",
          "text": [
            "p-value: 5.142421700727746e-108\n"
          ]
        },
        {
          "output_type": "stream",
          "name": "stderr",
          "text": [
            "/usr/local/lib/python3.11/dist-packages/scipy/stats/_axis_nan_policy.py:531: UserWarning: scipy.stats.shapiro: For N > 5000, computed p-value may not be accurate. Current N is 7865.\n",
            "  res = hypotest_fun_out(*samples, **kwds)\n"
          ]
        }
      ]
    },
    {
      "cell_type": "markdown",
      "source": [
        "The Shapiro-Wilk ttest gives a warning that the p-value may not be entirely accurate due to large dataset size. So, it is best to try another ttest: the Kolmogorov–Smirnov ttest"
      ],
      "metadata": {
        "id": "Qcp2Qsec3noB"
      }
    },
    {
      "cell_type": "code",
      "source": [
        "# First, standardize the REVENUE data to ensure normality. Then, perform ttest.\n",
        "\n",
        "std_revenue = zscore(df['REVENUE'])\n",
        "\n",
        "t_stat, p_value = stats.kstest(std_revenue, 'norm')\n",
        "print(f\"p-value: {p_value}\")"
      ],
      "metadata": {
        "colab": {
          "base_uri": "https://localhost:8080/"
        },
        "id": "u7dzxTgUrjFY",
        "outputId": "cb193633-30e6-45fb-e4d1-9b4a5fa1dae7"
      },
      "execution_count": null,
      "outputs": [
        {
          "output_type": "stream",
          "name": "stdout",
          "text": [
            "p-value: 0.0\n"
          ]
        }
      ]
    },
    {
      "cell_type": "markdown",
      "source": [
        "The p-value is 0.0 even after standardization, which indicates that the data is not normally distributed.\n",
        "As a result, ttests are not usable as they require data to have a gaussian distribution.\n",
        "The next step is to use non-parametric tests, such as the Mann-Whitney U test."
      ],
      "metadata": {
        "id": "Y_aifjvM4jXh"
      }
    },
    {
      "cell_type": "code",
      "source": [
        "# Mann-Whitney U test\n",
        "\n",
        "control = df[df['VARIANT_NAME'] == 'control']['REVENUE']\n",
        "variant = df[df['VARIANT_NAME'] == 'variant']['REVENUE']\n",
        "\n",
        "u_value, p_value = stats.mannwhitneyu(control, variant)\n",
        "print('p-value:', p_value)"
      ],
      "metadata": {
        "colab": {
          "base_uri": "https://localhost:8080/"
        },
        "id": "vecFPZ995Cyt",
        "outputId": "436651ad-4173-4c73-f87d-a0b3da1b90c3"
      },
      "execution_count": null,
      "outputs": [
        {
          "output_type": "stream",
          "name": "stdout",
          "text": [
            "p-value: 0.7830921177007305\n"
          ]
        }
      ]
    },
    {
      "cell_type": "markdown",
      "source": [
        "The results of the p-value indicate that there are no statically significant differences in the two group (control and variant) revenues. The null hypothesis cannot be rejected."
      ],
      "metadata": {
        "id": "W0LyvhqO81nV"
      }
    },
    {
      "cell_type": "markdown",
      "source": [
        "Next, test for Conversion Rates using Chi Square."
      ],
      "metadata": {
        "id": "F5xNjAnZ-hp9"
      }
    },
    {
      "cell_type": "code",
      "source": [
        "df['CONVERTED'] = df['REVENUE'] > 0 # Define the conversion column\n",
        "\n",
        "contingency_tab = pd.crosstab(df['VARIANT_NAME'], df['CONVERTED'])\n",
        "print(contingency_tab)"
      ],
      "metadata": {
        "colab": {
          "base_uri": "https://localhost:8080/"
        },
        "id": "00srRbDo-n93",
        "outputId": "585ca8ec-4796-4817-d9fc-a92ec1108435"
      },
      "execution_count": null,
      "outputs": [
        {
          "output_type": "stream",
          "name": "stdout",
          "text": [
            "CONVERTED     False  True \n",
            "VARIANT_NAME              \n",
            "control        3878     53\n",
            "variant        3878     56\n"
          ]
        }
      ]
    },
    {
      "cell_type": "code",
      "source": [
        "chi2, p_value, dof, expected = chi2_contingency(contingency_tab)\n",
        "\n",
        "print(f\"Chi Square: {chi2:.4f}\")\n",
        "print(f\"p-value: {p_value:.4f}\")"
      ],
      "metadata": {
        "colab": {
          "base_uri": "https://localhost:8080/"
        },
        "id": "nCB3mFUZBtQ0",
        "outputId": "2c0a89e6-9cbb-49d8-8e34-c692da5bc408"
      },
      "execution_count": null,
      "outputs": [
        {
          "output_type": "stream",
          "name": "stdout",
          "text": [
            "Chi Square: 0.0357\n",
            "p-value: 0.8502\n"
          ]
        }
      ]
    },
    {
      "cell_type": "markdown",
      "source": [
        "As observed from the p-value, there is no statistically significant difference in conversion rates between the control and variant groups. The new variant did not improve or worsen conversions in a meaningful way."
      ],
      "metadata": {
        "id": "_nEEZsT8Cisd"
      }
    },
    {
      "cell_type": "markdown",
      "source": [
        "Optional, but here are the actual conversion rates of each group."
      ],
      "metadata": {
        "id": "2hjogziWC43_"
      }
    },
    {
      "cell_type": "code",
      "source": [
        "# Actual Conversion Rates\n",
        "\n",
        "conversion_rates = df.groupby('VARIANT_NAME')['CONVERTED'].mean() * 100\n",
        "print(conversion_rates)"
      ],
      "metadata": {
        "colab": {
          "base_uri": "https://localhost:8080/"
        },
        "id": "0Jlc_wI5DB7K",
        "outputId": "fa19d308-6510-4692-f377-99076861e5d9"
      },
      "execution_count": null,
      "outputs": [
        {
          "output_type": "stream",
          "name": "stdout",
          "text": [
            "VARIANT_NAME\n",
            "control    1.348257\n",
            "variant    1.423488\n",
            "Name: CONVERTED, dtype: float64\n"
          ]
        }
      ]
    },
    {
      "cell_type": "markdown",
      "source": [
        "For educational purposes - introduce a new variable to do an ANOVA test."
      ],
      "metadata": {
        "id": "UEz09O_AFqw3"
      }
    },
    {
      "cell_type": "code",
      "source": [
        "# Introducing 'USER_TYPE'\n",
        "\n",
        "np.random.seed(0)\n",
        "\n",
        "df['USER_TYPE'] = np.random.choice(['Premium', 'Regular', 'New'], size=len(df))\n",
        "\n",
        "# Run ANOVA test\n",
        "\n",
        "grouped = df.groupby('USER_TYPE')['REVENUE']\n",
        "\n",
        "f_stat, p_value = f_oneway(*[i[1] for i in grouped])\n",
        "\n",
        "print(f\"F-Stat: {f_stat}, p-value: {p_value}\")"
      ],
      "metadata": {
        "colab": {
          "base_uri": "https://localhost:8080/"
        },
        "id": "qg_846sMF1zH",
        "outputId": "72bc1758-2d23-42ff-e5f2-65e1c0f8289d"
      },
      "execution_count": null,
      "outputs": [
        {
          "output_type": "stream",
          "name": "stdout",
          "text": [
            "F-Stat: 0.9683244898839339, p-value: 0.3797640099500993\n"
          ]
        }
      ]
    },
    {
      "cell_type": "markdown",
      "source": [
        "Based off the results of the ANOVA test, there is no statistically significant difference in average revenue between Premium, Regular, and New user types."
      ],
      "metadata": {
        "id": "q4C9K4GVNXLp"
      }
    },
    {
      "cell_type": "markdown",
      "source": [
        "## Visualize the results"
      ],
      "metadata": {
        "id": "Yddbwd5aNyK_"
      }
    },
    {
      "cell_type": "markdown",
      "source": [
        "Revenue by Variant"
      ],
      "metadata": {
        "id": "cHgpC9cGPKBa"
      }
    },
    {
      "cell_type": "code",
      "source": [
        "# Boxplot - Revenue by Variant\n",
        "\n",
        "fig = plt.figure(figsize=(10,8))\n",
        "\n",
        "data_bp = [df[(df['VARIANT_NAME'] == i) & (df['REVENUE'] > 0)]['REVENUE'] for i in ['control', 'variant']] # Removes revenue of 0\n",
        "\n",
        "plt.boxplot(data_bp, tick_labels=['Control', 'Variant'])\n",
        "plt.title('Revenue Distribution by Variant (Revenue > 0)')\n",
        "plt.ylabel('Revenue')\n",
        "plt.yscale('log')\n",
        "plt.ylim(0.1,100)\n",
        "plt.grid(True)\n",
        "plt.show()"
      ],
      "metadata": {
        "colab": {
          "base_uri": "https://localhost:8080/",
          "height": 699
        },
        "id": "dZwz4YPvPSkz",
        "outputId": "8ac3f181-3aa0-4b17-cba7-796c5cc892c6"
      },
      "execution_count": null,
      "outputs": [
        {
          "output_type": "display_data",
          "data": {
            "text/plain": [
              "<Figure size 1000x800 with 1 Axes>"
            ],
            "image/png": "[encoded data removed]"
          },
          "metadata": {}
        }
      ]
    },
    {
      "cell_type": "markdown",
      "source": [
        "Conversion Rate by Variant"
      ],
      "metadata": {
        "id": "L--tXibxWsPP"
      }
    },
    {
      "cell_type": "code",
      "source": [
        "# Conversion Rate by Variant\n",
        "\n",
        "data_bar = df.groupby('VARIANT_NAME')['CONVERTED'].mean() * 100\n",
        "\n",
        "plt.figure(figsize=(8,6))\n",
        "plt.bar(data_bar.index, data_bar.values, color=['lightblue', 'pink'])\n",
        "plt.title('Conversion Rate by Variant')\n",
        "plt.ylabel('Conversion Rate (%)')\n",
        "plt.show()"
      ],
      "metadata": {
        "colab": {
          "base_uri": "https://localhost:8080/",
          "height": 545
        },
        "id": "r29-oaBwUb5i",
        "outputId": "85442392-0b1d-41cb-f4a8-cf562876b743"
      },
      "execution_count": null,
      "outputs": [
        {
          "output_type": "display_data",
          "data": {
            "text/plain": [
              "<Figure size 800x600 with 1 Axes>"
            ],
            "image/png": "[encoded data removed]"
          },
          "metadata": {}
        }
      ]
    },
    {
      "cell_type": "markdown",
      "source": [
        "Revenue by User Type"
      ],
      "metadata": {
        "id": "2XszGPuGWxQo"
      }
    },
    {
      "cell_type": "code",
      "source": [
        "# Revenue by User Type\n",
        "\n",
        "plt.figure(figsize=(10, 6))\n",
        "sns.swarmplot(x='USER_TYPE', y='REVENUE', data=df[df['REVENUE'] > 0], size=3)\n",
        "plt.title('Revenue Distribution by User Type')\n",
        "plt.ylabel('Revenue')\n",
        "plt.xlabel('User Type')\n",
        "plt.ylim(0, 10)\n",
        "plt.show()"
      ],
      "metadata": {
        "colab": {
          "base_uri": "https://localhost:8080/",
          "height": 564
        },
        "id": "_Fsywe2sWl2Z",
        "outputId": "3046dcf5-5a6b-4fcf-b4c6-5824eff05d18"
      },
      "execution_count": null,
      "outputs": [
        {
          "output_type": "display_data",
          "data": {
            "text/plain": [
              "<Figure size 1000x600 with 1 Axes>"
            ],
            "image/png": "[encoded data removed]"
          },
          "metadata": {}
        }
      ]
    },
    {
      "cell_type": "markdown",
      "source": [
        "## Conclusion"
      ],
      "metadata": {
        "id": "ePi6mAQuYrPx"
      }
    },
    {
      "cell_type": "markdown",
      "source": [
        "This project applied A/B testing and statistical analysis techniques to evaluate the impact of a website variant on user revenue and conversion behavior using simulated e-commerce data. Through tests such as the Mann-Whitney U and Chi-Square, we found no statistically significant differences in revenue or conversion rate between the control and variant groups, indicating that the new variant did not outperform the original design. Additionally, an ANOVA test on a synthetic USER_TYPE variable revealed no significant revenue differences across user categories. Visualizations including boxplots, bar charts, swarm plots, and violin plots helped illustrate the distribution patterns and supported our statistical findings. Overall, the analysis suggests that the tested changes did not yield measurable improvements, but the process effectively demonstrated a complete A/B testing workflow, from data cleaning to insight generation."
      ],
      "metadata": {
        "id": "uPb1XqllYv6_"
      }
    }
  ]
}